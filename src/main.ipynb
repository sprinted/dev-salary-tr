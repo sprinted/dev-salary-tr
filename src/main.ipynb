{
 "cells": [
  {
   "cell_type": "code",
   "execution_count": null,
   "metadata": {},
   "outputs": [],
   "source": [
    "import pandas as pd\n",
    "import plotly.express as px\n",
    "\n",
    "file_path = 'data/dev_tr_survey_2023.csv'\n",
    "\n",
    "df = pd.read_csv(file_path)\n",
    "for column in df.columns:\n",
    "    if column not in  ['Zaman damgası', 'Ağırlıklı olarak hangi dil ve teknolojileri kullanıyorsunuz?','Yan haklarınız neler?']:\n",
    "        column_count = df[column].value_counts()\n",
    "        column_df = pd.DataFrame({column: column_count.index, 'Count': column_count.values})\n",
    "        fig = px.pie(column_df, values='Count', names=column)\n",
    "        fig.update_layout(title_text=column)\n",
    "        fig.show()\n",
    "    elif column in ['Ağırlıklı olarak hangi dil ve teknolojileri kullanıyorsunuz?','Yan haklarınız neler?']:\n",
    "        df[column] = df[column].str.replace('doğum günü izni, regl izni gibi', 'doğum günü izni|regl izni gibi')\n",
    "        df_positions = df[column].str.split(', ').explode()\n",
    "        position_counts = df_positions.value_counts()\n",
    "        fig = px.bar(position_counts, x=position_counts.index, y=position_counts.values,\n",
    "                     labels={'x': column, 'y': 'Count'})\n",
    "        fig.update_layout(title_text=column)\n",
    "        fig.show()"
   ]
  },
  {
   "cell_type": "code",
   "execution_count": null,
   "metadata": {},
   "outputs": [],
   "source": []
  }
 ],
 "metadata": {
  "kernelspec": {
   "display_name": "Python 3 (ipykernel)",
   "language": "python",
   "name": "python3"
  },
  "language_info": {
   "codemirror_mode": {
    "name": "ipython",
    "version": 3
   },
   "file_extension": ".py",
   "mimetype": "text/x-python",
   "name": "python",
   "nbconvert_exporter": "python",
   "pygments_lexer": "ipython3",
   "version": "3.11.0"
  },
  "vscode": {
   "interpreter": {
    "hash": "ce3f80873a5b79ba9ee3745aa160652d014f458990decd7789c58da93a707dc4"
   }
  }
 },
 "nbformat": 4,
 "nbformat_minor": 2
}
