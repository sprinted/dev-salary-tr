{
 "cells": [
  {
   "cell_type": "code",
   "execution_count": null,
   "metadata": {},
   "outputs": [],
   "source": [
    "import os\n",
    "import pandas as pd\n",
    "import numpy as np\n",
    "import plotly.express as px\n",
    "\n",
    "file_path = 'data/dev_tr_survey_2023.csv'\n",
    "print(file_path)\n",
    "\n",
    "df = pd.read_csv(file_path)\n",
    "for column in df.columns:\n",
    "    if column != 'Zaman damgası':\n",
    "        print(column)\n",
    "        column_count = df[column].value_counts()\n",
    "        column_df = pd.DataFrame({column: column_count.index, 'Count': column_count.values})\n",
    "        fig = px.pie(column_df, values='Count', names=column)\n",
    "        fig.show()"
   ]
  },
  {
   "cell_type": "code",
   "execution_count": null,
   "metadata": {},
   "outputs": [],
   "source": []
  },
  {
   "cell_type": "code",
   "execution_count": null,
   "metadata": {
    "pycharm": {
     "is_executing": true
    }
   },
   "outputs": [],
   "source": []
  },
  {
   "cell_type": "code",
   "execution_count": null,
   "metadata": {},
   "outputs": [],
   "source": []
  }
 ],
 "metadata": {
  "kernelspec": {
   "display_name": "Python 3 (ipykernel)",
   "language": "python",
   "name": "python3"
  },
  "language_info": {
   "codemirror_mode": {
    "name": "ipython",
    "version": 3
   },
   "file_extension": ".py",
   "mimetype": "text/x-python",
   "name": "python",
   "nbconvert_exporter": "python",
   "pygments_lexer": "ipython3",
   "version": "3.11.0"
  },
  "vscode": {
   "interpreter": {
    "hash": "ce3f80873a5b79ba9ee3745aa160652d014f458990decd7789c58da93a707dc4"
   }
  }
 },
 "nbformat": 4,
 "nbformat_minor": 2
}
