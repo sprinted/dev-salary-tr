{
 "cells": [
  {
   "cell_type": "code",
   "execution_count": null,
   "metadata": {},
   "outputs": [],
   "source": []
  }
 ],
 "metadata": {
  "kernelspec": {
   "display_name": "deprem-data",
   "language": "python",
   "name": "python3"
  },
  "language_info": {
   "name": "python",
   "version": "3.11.0"
  },
  "orig_nbformat": 4,
  "vscode": {
   "interpreter": {
    "hash": "ce3f80873a5b79ba9ee3745aa160652d014f458990decd7789c58da93a707dc4"
   }
  }
 },
 "nbformat": 4,
 "nbformat_minor": 2
}
